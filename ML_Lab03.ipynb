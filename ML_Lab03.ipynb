{
 "cells": [
  {
   "cell_type": "code",
   "execution_count": 2,
   "id": "69ea94bf",
   "metadata": {
    "scrolled": true
   },
   "outputs": [
    {
     "name": "stdout",
     "output_type": "stream",
     "text": [
      "              0         1          2    3          4          5          6  \\\n",
      "0     27.630783  0.000000  51.067493  0.0  26.302004   0.000000   0.000000   \n",
      "1     41.934185  0.000000  57.616398  0.0  40.345722   0.000000   0.000000   \n",
      "2     59.681458  0.000000  35.450397  0.0  51.084698   0.000000   0.000000   \n",
      "3     25.652845  0.000000  42.711246  0.0  26.391441   0.000000   0.000000   \n",
      "4     51.862490  0.000000  25.455917  0.0  48.505250   0.000000   0.000000   \n",
      "...         ...       ...        ...  ...        ...        ...        ...   \n",
      "6652   0.000000  8.917019  12.606703  0.0   0.000000  23.875010   0.000000   \n",
      "6653  12.088920  3.646342  28.106102  0.0   0.000000   0.000000   0.000000   \n",
      "6654   0.000000  0.000000  53.899130  0.0   0.000000   0.000000  12.079654   \n",
      "6655   0.000000  0.000000  37.811558  0.0   0.000000   0.000000   8.555406   \n",
      "6656   0.000000  0.000000  29.105694  0.0   0.000000   8.669491  20.568624   \n",
      "\n",
      "        7    8         9  ...         55         56   57         58  \\\n",
      "0     0.0  0.0  0.000000  ...  35.563477   8.822042  0.0  18.269510   \n",
      "1     0.0  0.0  0.000000  ...  33.432617  22.573324  0.0  25.266916   \n",
      "2     0.0  0.0  4.531399  ...  17.747238  22.295591  0.0   9.600313   \n",
      "3     0.0  0.0  0.000000  ...  25.998358  12.029038  0.0  19.127953   \n",
      "4     0.0  0.0  0.000000  ...  27.024067   1.758605  0.0  17.696215   \n",
      "...   ...  ...       ...  ...        ...        ...  ...        ...   \n",
      "6652  0.0  0.0  9.403310  ...   0.000000   9.477231  0.0   0.000000   \n",
      "6653  0.0  0.0  0.000000  ...   0.000000   0.000000  0.0   0.000000   \n",
      "6654  0.0  0.0  0.000000  ...  12.388772  58.245360  0.0   0.000000   \n",
      "6655  0.0  0.0  0.000000  ...   7.663426  23.674717  0.0   0.000000   \n",
      "6656  0.0  0.0  0.000000  ...  11.354428  39.144600  0.0   0.000000   \n",
      "\n",
      "             59         60         61         62   63  class_name  \n",
      "0     82.596970   0.000000   0.000000   1.751286  0.0        3333  \n",
      "1     71.188900   0.000000   0.000000   0.000000  0.0        3333  \n",
      "2     39.380276   0.000000   0.000000  13.358544  0.0        3333  \n",
      "3     60.226376   0.000000   0.000000   0.000000  0.0        3333  \n",
      "4     64.634834   0.000000   0.000000   9.861172  0.0        3333  \n",
      "...         ...        ...        ...        ...  ...         ...  \n",
      "6652  46.723995   0.000000  20.901190   7.003646  0.0        3454  \n",
      "6653  38.677414   0.000000   1.824834   7.562943  0.0        3454  \n",
      "6654  47.787598   5.880453   0.000000   3.556168  0.0        3454  \n",
      "6655  53.260387   3.350826   0.000000   8.673196  0.0        3454  \n",
      "6656  62.376480  13.449656   0.000000  10.945368  0.0        3454  \n",
      "\n",
      "[6657 rows x 65 columns]\n"
     ]
    },
    {
     "data": {
      "text/plain": [
       "(6657, 65)"
      ]
     },
     "execution_count": 2,
     "metadata": {},
     "output_type": "execute_result"
    }
   ],
   "source": [
    "import pandas as pd\n",
    "import numpy as np\n",
    "import seaborn as sns\n",
    "import matplotlib.pyplot as plt\n",
    "from sklearn.model_selection import train_test_split\n",
    "\n",
    "from sklearn.neighbors import KNeighborsClassifier\n",
    "from sklearn.metrics import accuracy_score\n",
    "\n",
    "from sklearn.model_selection import train_test_split\n",
    "\n",
    "# Displaying the Data set for given excel\n",
    "dt=pd.read_csv(r\"D:\\ML_Pro\\extracted_features_charrec_dense7.csv\")\n",
    "print(dt)\n",
    "dt.shape"
   ]
  },
  {
   "cell_type": "code",
   "execution_count": 75,
   "id": "c2162f77",
   "metadata": {},
   "outputs": [],
   "source": [
    "import numpy as np\n",
    "\n",
    "# Load the CSV file using numpy.genfromtxt()\n",
    "data = np.genfromtxt(r\"D:\\ML_Pro\\extracted_features_charrec_dense7.csv\", delimiter=',', skip_header=1)\n",
    "\n",
    "# Extract feature vectors and class labels\n",
    "X = data[:, :-1]\n",
    "y = data[:, -1]\n",
    "\n",
    "# Save the data as a NumPy file\n",
    "np.savez('extracted_features_charrec_dense7.npz', X=X, y=y)"
   ]
  },
  {
   "cell_type": "code",
   "execution_count": 3,
   "id": "295ed34e",
   "metadata": {},
   "outputs": [
    {
     "data": {
      "text/html": [
       "<div>\n",
       "<style scoped>\n",
       "    .dataframe tbody tr th:only-of-type {\n",
       "        vertical-align: middle;\n",
       "    }\n",
       "\n",
       "    .dataframe tbody tr th {\n",
       "        vertical-align: top;\n",
       "    }\n",
       "\n",
       "    .dataframe thead th {\n",
       "        text-align: right;\n",
       "    }\n",
       "</style>\n",
       "<table border=\"1\" class=\"dataframe\">\n",
       "  <thead>\n",
       "    <tr style=\"text-align: right;\">\n",
       "      <th></th>\n",
       "      <th>0</th>\n",
       "      <th>1</th>\n",
       "      <th>2</th>\n",
       "      <th>3</th>\n",
       "      <th>4</th>\n",
       "      <th>5</th>\n",
       "      <th>6</th>\n",
       "      <th>7</th>\n",
       "      <th>8</th>\n",
       "      <th>9</th>\n",
       "      <th>...</th>\n",
       "      <th>55</th>\n",
       "      <th>56</th>\n",
       "      <th>57</th>\n",
       "      <th>58</th>\n",
       "      <th>59</th>\n",
       "      <th>60</th>\n",
       "      <th>61</th>\n",
       "      <th>62</th>\n",
       "      <th>63</th>\n",
       "      <th>class_name</th>\n",
       "    </tr>\n",
       "  </thead>\n",
       "  <tbody>\n",
       "    <tr>\n",
       "      <th>count</th>\n",
       "      <td>6657.000000</td>\n",
       "      <td>6657.000000</td>\n",
       "      <td>6657.000000</td>\n",
       "      <td>6657.000000</td>\n",
       "      <td>6657.000000</td>\n",
       "      <td>6657.000000</td>\n",
       "      <td>6657.000000</td>\n",
       "      <td>6657.000000</td>\n",
       "      <td>6657.0</td>\n",
       "      <td>6657.000000</td>\n",
       "      <td>...</td>\n",
       "      <td>6657.000000</td>\n",
       "      <td>6657.000000</td>\n",
       "      <td>6657.000000</td>\n",
       "      <td>6657.000000</td>\n",
       "      <td>6657.000000</td>\n",
       "      <td>6657.000000</td>\n",
       "      <td>6657.000000</td>\n",
       "      <td>6657.000000</td>\n",
       "      <td>6657.0</td>\n",
       "      <td>6657.000000</td>\n",
       "    </tr>\n",
       "    <tr>\n",
       "      <th>mean</th>\n",
       "      <td>21.167244</td>\n",
       "      <td>7.914853</td>\n",
       "      <td>26.955550</td>\n",
       "      <td>0.001694</td>\n",
       "      <td>22.496025</td>\n",
       "      <td>3.155892</td>\n",
       "      <td>0.566073</td>\n",
       "      <td>0.000942</td>\n",
       "      <td>0.0</td>\n",
       "      <td>25.541555</td>\n",
       "      <td>...</td>\n",
       "      <td>4.556751</td>\n",
       "      <td>18.894252</td>\n",
       "      <td>0.001973</td>\n",
       "      <td>10.986298</td>\n",
       "      <td>25.483393</td>\n",
       "      <td>0.853183</td>\n",
       "      <td>21.327060</td>\n",
       "      <td>17.278656</td>\n",
       "      <td>0.0</td>\n",
       "      <td>3365.858194</td>\n",
       "    </tr>\n",
       "    <tr>\n",
       "      <th>std</th>\n",
       "      <td>21.048915</td>\n",
       "      <td>11.119147</td>\n",
       "      <td>34.284395</td>\n",
       "      <td>0.044561</td>\n",
       "      <td>24.870716</td>\n",
       "      <td>9.028120</td>\n",
       "      <td>3.395978</td>\n",
       "      <td>0.040107</td>\n",
       "      <td>0.0</td>\n",
       "      <td>35.277036</td>\n",
       "      <td>...</td>\n",
       "      <td>11.053910</td>\n",
       "      <td>26.166480</td>\n",
       "      <td>0.075321</td>\n",
       "      <td>13.966302</td>\n",
       "      <td>28.379510</td>\n",
       "      <td>3.459574</td>\n",
       "      <td>29.444840</td>\n",
       "      <td>20.342259</td>\n",
       "      <td>0.0</td>\n",
       "      <td>24.817513</td>\n",
       "    </tr>\n",
       "    <tr>\n",
       "      <th>min</th>\n",
       "      <td>0.000000</td>\n",
       "      <td>0.000000</td>\n",
       "      <td>0.000000</td>\n",
       "      <td>0.000000</td>\n",
       "      <td>0.000000</td>\n",
       "      <td>0.000000</td>\n",
       "      <td>0.000000</td>\n",
       "      <td>0.000000</td>\n",
       "      <td>0.0</td>\n",
       "      <td>0.000000</td>\n",
       "      <td>...</td>\n",
       "      <td>0.000000</td>\n",
       "      <td>0.000000</td>\n",
       "      <td>0.000000</td>\n",
       "      <td>0.000000</td>\n",
       "      <td>0.000000</td>\n",
       "      <td>0.000000</td>\n",
       "      <td>0.000000</td>\n",
       "      <td>0.000000</td>\n",
       "      <td>0.0</td>\n",
       "      <td>3333.000000</td>\n",
       "    </tr>\n",
       "    <tr>\n",
       "      <th>25%</th>\n",
       "      <td>0.000000</td>\n",
       "      <td>0.000000</td>\n",
       "      <td>0.000000</td>\n",
       "      <td>0.000000</td>\n",
       "      <td>0.000000</td>\n",
       "      <td>0.000000</td>\n",
       "      <td>0.000000</td>\n",
       "      <td>0.000000</td>\n",
       "      <td>0.0</td>\n",
       "      <td>0.000000</td>\n",
       "      <td>...</td>\n",
       "      <td>0.000000</td>\n",
       "      <td>0.000000</td>\n",
       "      <td>0.000000</td>\n",
       "      <td>0.000000</td>\n",
       "      <td>0.000000</td>\n",
       "      <td>0.000000</td>\n",
       "      <td>0.000000</td>\n",
       "      <td>0.000000</td>\n",
       "      <td>0.0</td>\n",
       "      <td>3353.000000</td>\n",
       "    </tr>\n",
       "    <tr>\n",
       "      <th>50%</th>\n",
       "      <td>16.735703</td>\n",
       "      <td>2.248540</td>\n",
       "      <td>16.052292</td>\n",
       "      <td>0.000000</td>\n",
       "      <td>15.782615</td>\n",
       "      <td>0.000000</td>\n",
       "      <td>0.000000</td>\n",
       "      <td>0.000000</td>\n",
       "      <td>0.0</td>\n",
       "      <td>10.701322</td>\n",
       "      <td>...</td>\n",
       "      <td>0.000000</td>\n",
       "      <td>8.076521</td>\n",
       "      <td>0.000000</td>\n",
       "      <td>5.125904</td>\n",
       "      <td>17.266066</td>\n",
       "      <td>0.000000</td>\n",
       "      <td>9.578491</td>\n",
       "      <td>9.162153</td>\n",
       "      <td>0.0</td>\n",
       "      <td>3362.000000</td>\n",
       "    </tr>\n",
       "    <tr>\n",
       "      <th>75%</th>\n",
       "      <td>34.614826</td>\n",
       "      <td>11.951107</td>\n",
       "      <td>40.553830</td>\n",
       "      <td>0.000000</td>\n",
       "      <td>37.320180</td>\n",
       "      <td>0.000000</td>\n",
       "      <td>0.000000</td>\n",
       "      <td>0.000000</td>\n",
       "      <td>0.0</td>\n",
       "      <td>38.489910</td>\n",
       "      <td>...</td>\n",
       "      <td>0.821449</td>\n",
       "      <td>27.168510</td>\n",
       "      <td>0.000000</td>\n",
       "      <td>18.787160</td>\n",
       "      <td>43.938200</td>\n",
       "      <td>0.000000</td>\n",
       "      <td>30.630342</td>\n",
       "      <td>28.160164</td>\n",
       "      <td>0.0</td>\n",
       "      <td>3374.000000</td>\n",
       "    </tr>\n",
       "    <tr>\n",
       "      <th>max</th>\n",
       "      <td>113.655290</td>\n",
       "      <td>58.710968</td>\n",
       "      <td>194.724120</td>\n",
       "      <td>1.568933</td>\n",
       "      <td>149.866410</td>\n",
       "      <td>73.601400</td>\n",
       "      <td>34.719303</td>\n",
       "      <td>2.378994</td>\n",
       "      <td>0.0</td>\n",
       "      <td>192.633940</td>\n",
       "      <td>...</td>\n",
       "      <td>74.291320</td>\n",
       "      <td>168.736980</td>\n",
       "      <td>4.984689</td>\n",
       "      <td>79.050310</td>\n",
       "      <td>171.163060</td>\n",
       "      <td>34.583378</td>\n",
       "      <td>147.329130</td>\n",
       "      <td>92.224130</td>\n",
       "      <td>0.0</td>\n",
       "      <td>3454.000000</td>\n",
       "    </tr>\n",
       "  </tbody>\n",
       "</table>\n",
       "<p>8 rows × 65 columns</p>\n",
       "</div>"
      ],
      "text/plain": [
       "                 0            1            2            3            4  \\\n",
       "count  6657.000000  6657.000000  6657.000000  6657.000000  6657.000000   \n",
       "mean     21.167244     7.914853    26.955550     0.001694    22.496025   \n",
       "std      21.048915    11.119147    34.284395     0.044561    24.870716   \n",
       "min       0.000000     0.000000     0.000000     0.000000     0.000000   \n",
       "25%       0.000000     0.000000     0.000000     0.000000     0.000000   \n",
       "50%      16.735703     2.248540    16.052292     0.000000    15.782615   \n",
       "75%      34.614826    11.951107    40.553830     0.000000    37.320180   \n",
       "max     113.655290    58.710968   194.724120     1.568933   149.866410   \n",
       "\n",
       "                 5            6            7       8            9  ...  \\\n",
       "count  6657.000000  6657.000000  6657.000000  6657.0  6657.000000  ...   \n",
       "mean      3.155892     0.566073     0.000942     0.0    25.541555  ...   \n",
       "std       9.028120     3.395978     0.040107     0.0    35.277036  ...   \n",
       "min       0.000000     0.000000     0.000000     0.0     0.000000  ...   \n",
       "25%       0.000000     0.000000     0.000000     0.0     0.000000  ...   \n",
       "50%       0.000000     0.000000     0.000000     0.0    10.701322  ...   \n",
       "75%       0.000000     0.000000     0.000000     0.0    38.489910  ...   \n",
       "max      73.601400    34.719303     2.378994     0.0   192.633940  ...   \n",
       "\n",
       "                55           56           57           58           59  \\\n",
       "count  6657.000000  6657.000000  6657.000000  6657.000000  6657.000000   \n",
       "mean      4.556751    18.894252     0.001973    10.986298    25.483393   \n",
       "std      11.053910    26.166480     0.075321    13.966302    28.379510   \n",
       "min       0.000000     0.000000     0.000000     0.000000     0.000000   \n",
       "25%       0.000000     0.000000     0.000000     0.000000     0.000000   \n",
       "50%       0.000000     8.076521     0.000000     5.125904    17.266066   \n",
       "75%       0.821449    27.168510     0.000000    18.787160    43.938200   \n",
       "max      74.291320   168.736980     4.984689    79.050310   171.163060   \n",
       "\n",
       "                60           61           62      63   class_name  \n",
       "count  6657.000000  6657.000000  6657.000000  6657.0  6657.000000  \n",
       "mean      0.853183    21.327060    17.278656     0.0  3365.858194  \n",
       "std       3.459574    29.444840    20.342259     0.0    24.817513  \n",
       "min       0.000000     0.000000     0.000000     0.0  3333.000000  \n",
       "25%       0.000000     0.000000     0.000000     0.0  3353.000000  \n",
       "50%       0.000000     9.578491     9.162153     0.0  3362.000000  \n",
       "75%       0.000000    30.630342    28.160164     0.0  3374.000000  \n",
       "max      34.583378   147.329130    92.224130     0.0  3454.000000  \n",
       "\n",
       "[8 rows x 65 columns]"
      ]
     },
     "execution_count": 3,
     "metadata": {},
     "output_type": "execute_result"
    }
   ],
   "source": [
    "# It will display the mean, count and standard deviation for every feature(column)\n",
    "data.describe()"
   ]
  },
  {
   "cell_type": "code",
   "execution_count": 43,
   "id": "77b16ff6",
   "metadata": {
    "scrolled": true
   },
   "outputs": [
    {
     "data": {
      "text/plain": [
       "array([0.0000000e+00, 3.4163892e-04, 4.6131015e-04, ..., 3.4530000e+03,\n",
       "       3.4540000e+03,           nan])"
      ]
     },
     "execution_count": 43,
     "metadata": {},
     "output_type": "execute_result"
    }
   ],
   "source": [
    "np.unique(data)"
   ]
  },
  {
   "cell_type": "code",
   "execution_count": 44,
   "id": "2bd466f6",
   "metadata": {},
   "outputs": [
    {
     "data": {
      "text/plain": [
       "array([[0.0000000e+00, 1.0000000e+00, 2.0000000e+00, ..., 6.2000000e+01,\n",
       "        6.3000000e+01,           nan],\n",
       "       [2.7630783e+01, 0.0000000e+00, 5.1067493e+01, ..., 1.7512865e+00,\n",
       "        0.0000000e+00, 3.3330000e+03],\n",
       "       [4.1934185e+01, 0.0000000e+00, 5.7616398e+01, ..., 0.0000000e+00,\n",
       "        0.0000000e+00, 3.3330000e+03],\n",
       "       ...,\n",
       "       [0.0000000e+00, 0.0000000e+00, 5.3899130e+01, ..., 3.5561680e+00,\n",
       "        0.0000000e+00, 3.4540000e+03],\n",
       "       [0.0000000e+00, 0.0000000e+00, 3.7811558e+01, ..., 8.6731960e+00,\n",
       "        0.0000000e+00, 3.4540000e+03],\n",
       "       [0.0000000e+00, 0.0000000e+00, 2.9105694e+01, ..., 1.0945368e+01,\n",
       "        0.0000000e+00, 3.4540000e+03]])"
      ]
     },
     "execution_count": 44,
     "metadata": {},
     "output_type": "execute_result"
    }
   ],
   "source": [
    "zero_rows_mask = (data==0).any(axis=1)\n",
    "class1= data[zero_rows_mask]\n",
    "class1"
   ]
  },
  {
   "cell_type": "code",
   "execution_count": 46,
   "id": "1eda004f",
   "metadata": {},
   "outputs": [
    {
     "data": {
      "text/plain": [
       "array([[   0.       ,    3.5745394,   31.44596  , ...,    0.       ,\n",
       "           0.       , 3454.       ],\n",
       "       [   0.       ,    9.891518 ,   17.99879  , ...,    0.       ,\n",
       "           0.       , 3454.       ],\n",
       "       [   0.       ,    9.891518 ,   17.99879  , ...,    0.       ,\n",
       "           0.       , 3454.       ],\n",
       "       ...,\n",
       "       [   0.       ,    0.       ,   53.89913  , ...,    3.556168 ,\n",
       "           0.       , 3454.       ],\n",
       "       [   0.       ,    0.       ,   37.811558 , ...,    8.673196 ,\n",
       "           0.       , 3454.       ],\n",
       "       [   0.       ,    0.       ,   29.105694 , ...,   10.945368 ,\n",
       "           0.       , 3454.       ]])"
      ]
     },
     "execution_count": 46,
     "metadata": {},
     "output_type": "execute_result"
    }
   ],
   "source": [
    "one_rows_mask = (data == 3.4540000e+03).any(axis=1)\n",
    "class2=data[one_rows_mask]\n",
    "class2"
   ]
  },
  {
   "cell_type": "code",
   "execution_count": 47,
   "id": "72f52cfe",
   "metadata": {},
   "outputs": [
    {
     "data": {
      "text/plain": [
       "array([2.11640650e+01, 7.91381419e+00, 2.69518020e+01, 2.14462955e-03,\n",
       "       2.24932471e+01, 3.15616873e+00, 5.66889562e-01, 1.99274912e-03,\n",
       "       1.20156203e-03, 2.55390708e+01, 1.50195254e-03, 1.37763389e+01,\n",
       "       1.94425229e+01, 1.95253830e-03, 9.89621271e+00, 1.11150111e+01,\n",
       "       8.08283737e+00, 5.07279939e+00, 5.42116136e+00, 3.00610459e+00,\n",
       "       2.48206431e+01, 3.49970436e-03, 2.00004690e+01, 3.45728632e-03,\n",
       "       1.21155515e+01, 2.09974147e+01, 1.97919425e+01, 4.58779008e-03,\n",
       "       6.20922150e+00, 4.56586166e+00, 1.84829555e+01, 2.32302234e+01,\n",
       "       1.78147708e+01, 5.03462489e-03, 1.70091452e+01, 2.36594399e+01,\n",
       "       2.15367095e+01, 9.40076497e+00, 2.81532049e+01, 5.85761490e-03,\n",
       "       6.33655636e-03, 6.15800541e-03, 6.30820066e-03, 1.62146790e+01,\n",
       "       1.72135670e+01, 9.13586270e-03, 9.04098796e+00, 7.05917693e-03,\n",
       "       2.29048647e+01, 2.39353939e+01, 2.51922196e+01, 2.02161108e+01,\n",
       "       1.07057127e+01, 1.36692212e+01, 2.62519140e+01, 4.56432748e+00,\n",
       "       1.88998247e+01, 1.05334657e-02, 1.09933594e+01, 2.54884272e+01,\n",
       "       8.62066333e-01, 2.13330186e+01, 1.72853725e+01, 9.46230099e-03,\n",
       "                  nan])"
      ]
     },
     "execution_count": 47,
     "metadata": {},
     "output_type": "execute_result"
    }
   ],
   "source": [
    "class1_mean=np.mean(class1,axis=0)\n",
    "class1_mean"
   ]
  },
  {
   "cell_type": "code",
   "execution_count": 48,
   "id": "496486c9",
   "metadata": {},
   "outputs": [
    {
     "data": {
      "text/plain": [
       "array([3.08873725e-01, 4.51882946e+00, 2.32652721e+01, 0.00000000e+00,\n",
       "       6.13063538e-03, 6.38133830e+00, 1.17533702e+00, 0.00000000e+00,\n",
       "       0.00000000e+00, 2.06835095e+00, 0.00000000e+00, 3.01200804e+01,\n",
       "       6.47107266e-01, 0.00000000e+00, 2.68240291e+01, 1.21178108e-01,\n",
       "       2.85584096e-01, 4.91457960e-01, 9.51970463e-02, 0.00000000e+00,\n",
       "       1.30042711e+01, 0.00000000e+00, 2.27852753e+01, 0.00000000e+00,\n",
       "       6.12551412e-02, 3.56783303e+01, 2.13403062e-01, 0.00000000e+00,\n",
       "       3.90345352e+00, 7.06845185e-01, 2.68600932e+00, 5.37134608e+01,\n",
       "       3.85758762e-01, 0.00000000e+00, 1.60112957e+01, 6.80371858e+00,\n",
       "       8.85635129e-01, 3.09890838e-01, 4.50303709e-01, 0.00000000e+00,\n",
       "       0.00000000e+00, 0.00000000e+00, 0.00000000e+00, 2.87835975e+01,\n",
       "       5.31888000e+00, 0.00000000e+00, 1.29383116e+00, 0.00000000e+00,\n",
       "       4.63362573e-01, 1.77067369e+00, 2.70258468e+00, 5.47299323e+00,\n",
       "       4.92194999e+01, 4.29354081e+01, 3.67850328e+01, 6.54965307e-01,\n",
       "       1.48252209e+01, 0.00000000e+00, 1.13707596e-01, 5.52063957e+01,\n",
       "       1.19954134e+00, 6.59072253e+00, 5.03582483e+00, 0.00000000e+00,\n",
       "       3.45400000e+03])"
      ]
     },
     "execution_count": 48,
     "metadata": {},
     "output_type": "execute_result"
    }
   ],
   "source": [
    "class2_mean=np.mean(class2,axis=0)\n",
    "class2_mean"
   ]
  },
  {
   "cell_type": "code",
   "execution_count": 49,
   "id": "8d40f96f",
   "metadata": {
    "scrolled": true
   },
   "outputs": [
    {
     "data": {
      "text/plain": [
       "array([21.0473523 , 11.11779953, 34.28060912,  0.05775069, 24.86801327,\n",
       "        9.02679264,  3.39612094,  0.09468122,  0.09803598, 35.2723193 ,\n",
       "        0.12254497, 17.41057016, 26.44772719,  0.15930846, 16.38474095,\n",
       "       15.21442045, 10.82497747, 13.03241733, 11.89575697,  7.18128667,\n",
       "       36.31162831,  0.25801792, 25.33521954,  0.28185349, 15.96513928,\n",
       "       33.36006474, 25.50153716,  0.33220579, 10.98715562, 11.01949386,\n",
       "       27.71488661, 21.93126399, 19.21575518,  0.40444775, 23.04065761,\n",
       "       52.60134614, 24.99922902, 18.09490534, 31.22879568,  0.47792538,\n",
       "        0.49036331,  0.50243437,  0.51468887, 13.97207974, 21.63158068,\n",
       "        0.55570232, 12.37313783,  0.57596136, 30.26580933, 27.21329728,\n",
       "       37.75986186, 22.64844302, 24.93397024, 20.59408703, 28.04414624,\n",
       "       11.0695232 , 26.16650116,  0.70253035, 13.97608378, 28.37821978,\n",
       "        3.53417785, 29.4444316 , 20.34658585,  0.77203331,         nan])"
      ]
     },
     "execution_count": 49,
     "metadata": {},
     "output_type": "execute_result"
    }
   ],
   "source": [
    "class1_std=np.std(class1,axis=0)\n",
    "class1_std"
   ]
  },
  {
   "cell_type": "code",
   "execution_count": 50,
   "id": "e4ac4dd8",
   "metadata": {
    "scrolled": true
   },
   "outputs": [
    {
     "data": {
      "text/plain": [
       "array([ 1.92937436,  4.31497884,  9.41764764,  0.        ,  0.05449028,\n",
       "        4.82075846,  3.38767154,  0.        ,  0.        ,  7.02836314,\n",
       "        0.        ,  9.21275765,  4.20505436,  0.        ,  9.49264426,\n",
       "        0.73542422,  1.52967829,  2.03303676,  0.84612986,  0.        ,\n",
       "        8.70260542,  0.        ,  8.66391152,  0.        ,  0.42714113,\n",
       "        9.55893183,  1.16161317,  0.        ,  4.01277341,  3.73092354,\n",
       "        4.69622926, 12.34486777,  1.9396718 ,  0.        ,  6.46127372,\n",
       "        8.7057292 ,  6.35209506,  2.75437001,  2.64155609,  0.        ,\n",
       "        0.        ,  0.        ,  0.        , 10.77487161,  8.61691375,\n",
       "        0.        ,  3.32196463,  0.        ,  2.5910012 ,  2.60997874,\n",
       "        4.33508515,  7.71827877, 19.88223326, 12.99035731, 10.2979112 ,\n",
       "        2.20181964, 13.07346611,  0.        ,  0.50182558, 14.70478009,\n",
       "        2.84680202,  7.46934795,  6.14730633,  0.        ,  0.        ])"
      ]
     },
     "execution_count": 50,
     "metadata": {},
     "output_type": "execute_result"
    }
   ],
   "source": [
    "class2_std=np.std(class2,axis=0)\n",
    "class2_std"
   ]
  },
  {
   "cell_type": "code",
   "execution_count": 51,
   "id": "8f991d1b",
   "metadata": {},
   "outputs": [
    {
     "data": {
      "text/plain": [
       "nan"
      ]
     },
     "execution_count": 51,
     "metadata": {},
     "output_type": "execute_result"
    }
   ],
   "source": [
    "np.linalg.norm(class1_mean-class2_mean)"
   ]
  },
  {
   "cell_type": "code",
   "execution_count": 10,
   "id": "fe59abd4",
   "metadata": {},
   "outputs": [
    {
     "data": {
      "image/png": "[encoded data removed]",
      "text/plain": [
       "<Figure size 640x480 with 1 Axes>"
      ]
     },
     "metadata": {},
     "output_type": "display_data"
    }
   ],
   "source": [
    "'A2'\n",
    "selected_feature = dt['0']\n",
    "num_bins =8\n",
    "hist, bins = np.histogram(selected_feature, bins=num_bins)\n",
    "\n",
    "plt.hist(selected_feature, bins=num_bins,  color='black', edgecolor='red')\n",
    "plt.xlabel('Feature Value')\n",
    "plt.ylabel('Frequency')\n",
    "plt.title('Histogram of Selected Feature')\n",
    "plt.show()"
   ]
  },
  {
   "cell_type": "code",
   "execution_count": 11,
   "id": "070006b9",
   "metadata": {},
   "outputs": [
    {
     "data": {
      "image/png": "[encoded data removed]",
      "text/plain": [
       "<Figure size 640x480 with 1 Axes>"
      ]
     },
     "metadata": {},
     "output_type": "display_data"
    }
   ],
   "source": [
    "'A3'\n",
    "vector1 = dt.iloc[0, :]  \n",
    "vector2 = dt.iloc[1, :]  \n",
    "distances = []\n",
    "r_values = list(range(1, 11))\n",
    "for r in r_values:\n",
    "    distance = np.power(np.sum(np.abs(vector1 - vector2) ** r), 1/r)\n",
    "    distances.append(distance)\n",
    "\n",
    "plt.plot(r_values, distances, marker='s', linestyle='--')\n",
    "plt.xlabel('r')\n",
    "plt.ylabel('Minkowski Distance')\n",
    "plt.title('Minkowski Distance vs. r')\n",
    "plt.show()"
   ]
  },
  {
   "cell_type": "code",
   "execution_count": 56,
   "id": "1f64e1a1",
   "metadata": {
    "scrolled": true
   },
   "outputs": [],
   "source": [
    "'A4'\n",
    "import numpy as np\n",
    "from sklearn.model_selection import train_test_split\n",
    "X = dt.iloc[:, :-1]\n",
    "y = dt.iloc[:, -1]\n",
    "\n",
    "X_train, X_test, y_train, y_test = train_test_split(X, y, test_size=0.3)\n"
   ]
  },
  {
   "cell_type": "code",
   "execution_count": 20,
   "id": "147df99e",
   "metadata": {},
   "outputs": [
    {
     "data": {
      "text/plain": [
       "2643    3359\n",
       "3898    3364\n",
       "2856    3360\n",
       "2659    3359\n",
       "3763    3363\n",
       "        ... \n",
       "5237    3376\n",
       "2939    3360\n",
       "1330    3350\n",
       "4790    3373\n",
       "3221    3361\n",
       "Name: class_name, Length: 1998, dtype: int64"
      ]
     },
     "execution_count": 20,
     "metadata": {},
     "output_type": "execute_result"
    }
   ],
   "source": [
    "y_test"
   ]
  },
  {
   "cell_type": "code",
   "execution_count": 66,
   "id": "743cdd06",
   "metadata": {},
   "outputs": [],
   "source": []
  },
  {
   "cell_type": "code",
   "execution_count": 70,
   "id": "f191162a",
   "metadata": {},
   "outputs": [
    {
     "name": "stdout",
     "output_type": "stream",
     "text": [
      "X_train shape: (4659, 64)\n",
      "y_train shape: (4659,)\n",
      "X_test shape: (1998, 64)\n",
      "y_test shape: (1998,)\n"
     ]
    }
   ],
   "source": [
    "'A4'\n",
    "import numpy as np\n",
    "from sklearn.model_selection import train_test_split\n",
    "\n",
    "\n",
    "\n",
    "# Split data into features and labels\n",
    "X = data[:, :-1]\n",
    "y = data[:, -1]\n",
    "\n",
    "# Split data into training and testing sets\n",
    "X_train, X_test, y_train, y_test = train_test_split(X, y, test_size=0.3, random_state=42)\n",
    "\n",
    "# Print the shapes of the training and testing sets\n",
    "print(\"X_train shape:\", X_train.shape)\n",
    "print(\"y_train shape:\", y_train.shape)\n",
    "print(\"X_test shape:\", X_test.shape)\n",
    "print(\"y_test shape:\", y_test.shape)"
   ]
  },
  {
   "cell_type": "code",
   "execution_count": 72,
   "id": "138304e2",
   "metadata": {},
   "outputs": [
    {
     "data": {
      "text/html": [
       "<style>#sk-container-id-3 {color: black;}#sk-container-id-3 pre{padding: 0;}#sk-container-id-3 div.sk-toggleable {background-color: white;}#sk-container-id-3 label.sk-toggleable__label {cursor: pointer;display: block;width: 100%;margin-bottom: 0;padding: 0.3em;box-sizing: border-box;text-align: center;}#sk-container-id-3 label.sk-toggleable__label-arrow:before {content: \"▸\";float: left;margin-right: 0.25em;color: #696969;}#sk-container-id-3 label.sk-toggleable__label-arrow:hover:before {color: black;}#sk-container-id-3 div.sk-estimator:hover label.sk-toggleable__label-arrow:before {color: black;}#sk-container-id-3 div.sk-toggleable__content {max-height: 0;max-width: 0;overflow: hidden;text-align: left;background-color: #f0f8ff;}#sk-container-id-3 div.sk-toggleable__content pre {margin: 0.2em;color: black;border-radius: 0.25em;background-color: #f0f8ff;}#sk-container-id-3 input.sk-toggleable__control:checked~div.sk-toggleable__content {max-height: 200px;max-width: 100%;overflow: auto;}#sk-container-id-3 input.sk-toggleable__control:checked~label.sk-toggleable__label-arrow:before {content: \"▾\";}#sk-container-id-3 div.sk-estimator input.sk-toggleable__control:checked~label.sk-toggleable__label {background-color: #d4ebff;}#sk-container-id-3 div.sk-label input.sk-toggleable__control:checked~label.sk-toggleable__label {background-color: #d4ebff;}#sk-container-id-3 input.sk-hidden--visually {border: 0;clip: rect(1px 1px 1px 1px);clip: rect(1px, 1px, 1px, 1px);height: 1px;margin: -1px;overflow: hidden;padding: 0;position: absolute;width: 1px;}#sk-container-id-3 div.sk-estimator {font-family: monospace;background-color: #f0f8ff;border: 1px dotted black;border-radius: 0.25em;box-sizing: border-box;margin-bottom: 0.5em;}#sk-container-id-3 div.sk-estimator:hover {background-color: #d4ebff;}#sk-container-id-3 div.sk-parallel-item::after {content: \"\";width: 100%;border-bottom: 1px solid gray;flex-grow: 1;}#sk-container-id-3 div.sk-label:hover label.sk-toggleable__label {background-color: #d4ebff;}#sk-container-id-3 div.sk-serial::before {content: \"\";position: absolute;border-left: 1px solid gray;box-sizing: border-box;top: 0;bottom: 0;left: 50%;z-index: 0;}#sk-container-id-3 div.sk-serial {display: flex;flex-direction: column;align-items: center;background-color: white;padding-right: 0.2em;padding-left: 0.2em;position: relative;}#sk-container-id-3 div.sk-item {position: relative;z-index: 1;}#sk-container-id-3 div.sk-parallel {display: flex;align-items: stretch;justify-content: center;background-color: white;position: relative;}#sk-container-id-3 div.sk-item::before, #sk-container-id-3 div.sk-parallel-item::before {content: \"\";position: absolute;border-left: 1px solid gray;box-sizing: border-box;top: 0;bottom: 0;left: 50%;z-index: -1;}#sk-container-id-3 div.sk-parallel-item {display: flex;flex-direction: column;z-index: 1;position: relative;background-color: white;}#sk-container-id-3 div.sk-parallel-item:first-child::after {align-self: flex-end;width: 50%;}#sk-container-id-3 div.sk-parallel-item:last-child::after {align-self: flex-start;width: 50%;}#sk-container-id-3 div.sk-parallel-item:only-child::after {width: 0;}#sk-container-id-3 div.sk-dashed-wrapped {border: 1px dashed gray;margin: 0 0.4em 0.5em 0.4em;box-sizing: border-box;padding-bottom: 0.4em;background-color: white;}#sk-container-id-3 div.sk-label label {font-family: monospace;font-weight: bold;display: inline-block;line-height: 1.2em;}#sk-container-id-3 div.sk-label-container {text-align: center;}#sk-container-id-3 div.sk-container {/* jupyter's `normalize.less` sets `[hidden] { display: none; }` but bootstrap.min.css set `[hidden] { display: none !important; }` so we also need the `!important` here to be able to override the default hidden behavior on the sphinx rendered scikit-learn.org. See: https://github.com/scikit-learn/scikit-learn/issues/21755 */display: inline-block !important;position: relative;}#sk-container-id-3 div.sk-text-repr-fallback {display: none;}</style><div id=\"sk-container-id-3\" class=\"sk-top-container\"><div class=\"sk-text-repr-fallback\"><pre>KNeighborsClassifier(n_neighbors=3)</pre><b>In a Jupyter environment, please rerun this cell to show the HTML representation or trust the notebook. <br />On GitHub, the HTML representation is unable to render, please try loading this page with nbviewer.org.</b></div><div class=\"sk-container\" hidden><div class=\"sk-item\"><div class=\"sk-estimator sk-toggleable\"><input class=\"sk-toggleable__control sk-hidden--visually\" id=\"sk-estimator-id-3\" type=\"checkbox\" checked><label for=\"sk-estimator-id-3\" class=\"sk-toggleable__label sk-toggleable__label-arrow\">KNeighborsClassifier</label><div class=\"sk-toggleable__content\"><pre>KNeighborsClassifier(n_neighbors=3)</pre></div></div></div></div></div>"
      ],
      "text/plain": [
       "KNeighborsClassifier(n_neighbors=3)"
      ]
     },
     "execution_count": 72,
     "metadata": {},
     "output_type": "execute_result"
    }
   ],
   "source": [
    "'A5'\n",
    "import numpy as np\n",
    "from sklearn.neighbors import KNeighborsClassifier\n",
    "from sklearn.model_selection import train_test_split\n",
    "\n",
    "\n",
    "# Split data into features and labels\n",
    "X = data[:, :-1]\n",
    "y = data[:, -1]\n",
    "\n",
    "# Split data into training and testing sets\n",
    "X_train, X_test, y_train, y_test = train_test_split(X, y, test_size=0.3, random_state=42)\n",
    "\n",
    "# Create kNN classifier with k=3\n",
    "neigh = KNeighborsClassifier(n_neighbors=3)\n",
    "\n",
    "# Train the classifier on the training set\n",
    "neigh.fit(X_train, y_train)"
   ]
  },
  {
   "cell_type": "code",
   "execution_count": 73,
   "id": "780f00b8",
   "metadata": {},
   "outputs": [
    {
     "name": "stdout",
     "output_type": "stream",
     "text": [
      "Accuracy: 0.6571571571571572\n"
     ]
    }
   ],
   "source": [
    "'A6'\n",
    "import numpy as np\n",
    "from sklearn.neighbors import KNeighborsClassifier\n",
    "from sklearn.model_selection import train_test_split\n",
    "\n",
    "\n",
    "\n",
    "# Split data into features and labels\n",
    "X = data[:, :-1]\n",
    "y = data[:, -1]\n",
    "\n",
    "# Split data into training and testing sets\n",
    "X_train, X_test, y_train, y_test = train_test_split(X, y, test_size=0.3, random_state=42)\n",
    "\n",
    "# Create kNN classifier with k=3\n",
    "neigh = KNeighborsClassifier(n_neighbors=3)\n",
    "\n",
    "# Train the classifier on the training set\n",
    "neigh.fit(X_train, y_train)\n",
    "\n",
    "# Test the accuracy of the classifier on the test set\n",
    "accuracy = neigh.score(X_test, y_test)\n",
    "\n",
    "print(\"Accuracy:\", accuracy)"
   ]
  },
  {
   "cell_type": "code",
   "execution_count": 74,
   "id": "378ae425",
   "metadata": {},
   "outputs": [
    {
     "name": "stdout",
     "output_type": "stream",
     "text": [
      "Predicted class labels: [3362. 3334. 3372. ... 3352. 3356. 3337.]\n"
     ]
    }
   ],
   "source": [
    "'A7'\n",
    "import numpy as np\n",
    "from sklearn.neighbors import KNeighborsClassifier\n",
    "from sklearn.model_selection import train_test_split\n",
    "\n",
    "\n",
    "\n",
    "# Split data into features and labels\n",
    "X = data[:, :-1]\n",
    "y = data[:, -1]\n",
    "\n",
    "# Split data into training and testing sets\n",
    "X_train, X_test, y_train, y_test = train_test_split(X, y, test_size=0.3, random_state=42)\n",
    "\n",
    "# Create kNN classifier with k=3\n",
    "neigh = KNeighborsClassifier(n_neighbors=3)\n",
    "\n",
    "# Train the classifier on the training set\n",
    "neigh.fit(X_train, y_train)\n",
    "\n",
    "# Use the classifier to predict the class labels for the test set\n",
    "y_pred = neigh.predict(X_test)\n",
    "\n",
    "print(\"Predicted class labels:\", y_pred)"
   ]
  },
  {
   "cell_type": "code",
   "execution_count": 68,
   "id": "00feaa91",
   "metadata": {},
   "outputs": [
    {
     "name": "stdout",
     "output_type": "stream",
     "text": [
      "Accuracy: 0.6786786786786787\n"
     ]
    }
   ],
   "source": [
    "'A8'\n",
    "import numpy as np\n",
    "from sklearn.neighbors import KNeighborsClassifier\n",
    "from sklearn.model_selection import train_test_split\n",
    "\n",
    "\n",
    "# Split data into features and labels\n",
    "X = data[:, :-1]\n",
    "y = data[:, -1]\n",
    "\n",
    "# Split data into training and testing sets\n",
    "X_train, X_test, y_train, y_test = train_test_split(X, y, test_size=0.2, random_state=42)\n",
    "\n",
    "# Create kNN classifier with k=5\n",
    "neigh = KNeighborsClassifier(n_neighbors=5)\n",
    "\n",
    "# Train the classifier on the training set\n",
    "neigh.fit(X_train, y_train)\n",
    "\n",
    "# Test the accuracy of the classifier on the test set\n",
    "accuracy = neigh.score(X_test, y_test)\n",
    "\n",
    "print(\"Accuracy:\", accuracy)"
   ]
  },
  {
   "cell_type": "code",
   "execution_count": 67,
   "id": "9a606d3b",
   "metadata": {},
   "outputs": [
    {
     "name": "stdout",
     "output_type": "stream",
     "text": [
      "Confusion Matrix:\n",
      "[[29  1  0 ...  0  0  0]\n",
      " [ 2 27  0 ...  0  0  0]\n",
      " [ 0  2 22 ...  0  0  0]\n",
      " ...\n",
      " [ 0  0  0 ...  5  0  0]\n",
      " [ 1  0  0 ...  0  9  0]\n",
      " [ 0  0  0 ...  1  0 10]]\n",
      "Classification Report:\n",
      "              precision    recall  f1-score   support\n",
      "\n",
      "      3333.0       0.52      0.81      0.63        36\n",
      "      3334.0       0.61      0.82      0.70        33\n",
      "      3335.0       0.52      0.56      0.54        39\n",
      "      3337.0       0.68      0.68      0.68        34\n",
      "      3342.0       0.29      0.50      0.36        28\n",
      "      3343.0       0.48      0.46      0.47        26\n",
      "      3346.0       0.59      0.62      0.60        21\n",
      "      3349.0       0.63      0.70      0.67        47\n",
      "      3350.0       0.24      0.25      0.24        20\n",
      "      3351.0       0.84      0.88      0.86        43\n",
      "      3352.0       0.30      0.36      0.33        22\n",
      "      3353.0       0.86      0.83      0.84        29\n",
      "      3354.0       0.66      0.77      0.71        30\n",
      "      3355.0       0.39      0.35      0.37        20\n",
      "      3356.0       0.83      0.75      0.79        32\n",
      "      3357.0       0.71      0.56      0.63        27\n",
      "      3358.0       0.43      0.26      0.32        23\n",
      "      3359.0       1.00      0.92      0.96        49\n",
      "      3360.0       0.69      0.88      0.77        60\n",
      "      3361.0       1.00      0.90      0.95        63\n",
      "      3362.0       0.98      0.86      0.91        56\n",
      "      3363.0       0.69      0.57      0.63        47\n",
      "      3364.0       0.40      0.36      0.38        33\n",
      "      3365.0       0.70      0.67      0.68        21\n",
      "      3366.0       0.61      0.87      0.71        23\n",
      "      3367.0       0.67      0.48      0.56        21\n",
      "      3368.0       0.64      0.68      0.66        34\n",
      "      3370.0       0.88      0.54      0.67        26\n",
      "      3371.0       0.79      0.79      0.79        19\n",
      "      3372.0       0.44      0.95      0.60        19\n",
      "      3373.0       0.75      0.50      0.60        24\n",
      "      3374.0       0.56      0.42      0.48        24\n",
      "      3375.0       0.56      0.39      0.46        23\n",
      "      3376.0       0.65      0.60      0.63        25\n",
      "      3377.0       0.74      0.83      0.78        24\n",
      "      3378.0       0.88      0.47      0.61        30\n",
      "      3379.0       0.94      0.74      0.83        23\n",
      "      3380.0       1.00      0.82      0.90        17\n",
      "      3381.0       0.76      0.76      0.76        33\n",
      "      3382.0       0.64      0.69      0.67        13\n",
      "      3383.0       0.82      0.67      0.74        21\n",
      "      3384.0       0.67      0.58      0.62        24\n",
      "      3385.0       0.86      0.71      0.77        17\n",
      "      3450.0       1.00      1.00      1.00        10\n",
      "      3451.0       0.75      0.67      0.71         9\n",
      "      3452.0       0.62      0.62      0.62         8\n",
      "      3453.0       1.00      0.75      0.86        12\n",
      "      3454.0       0.91      0.71      0.80        14\n",
      "\n",
      "    accuracy                           0.68      1332\n",
      "   macro avg       0.69      0.66      0.66      1332\n",
      "weighted avg       0.70      0.68      0.68      1332\n",
      "\n"
     ]
    }
   ],
   "source": [
    "'A9'\n",
    "# Split data into training and testing sets\n",
    "X_train, X_test, y_train, y_test = train_test_split(X, y, test_size=0.2, random_state=42)\n",
    "\n",
    "# Create kNN classifier with k=5\n",
    "neigh = KNeighborsClassifier(n_neighbors=5)\n",
    "\n",
    "# Train the classifier on the training set\n",
    "neigh.fit(X_train, y_train)\n",
    "\n",
    "# Predict the labels for the test set\n",
    "y_pred = neigh.predict(X_test)\n",
    "\n",
    "# Calculate the confusion matrix\n",
    "cm = confusion_matrix(y_test, y_pred)\n",
    "\n",
    "# Print the confusion matrix\n",
    "print(\"Confusion Matrix:\")\n",
    "print(cm)\n",
    "\n",
    "# Calculate the classification report\n",
    "cr = classification_report(y_test, y_pred)\n",
    "\n",
    "# Print the classification report\n",
    "print(\"Classification Report:\")\n",
    "print(cr)"
   ]
  },
  {
   "cell_type": "code",
   "execution_count": null,
   "id": "42300dc2",
   "metadata": {},
   "outputs": [],
   "source": []
  }
 ],
 "metadata": {
  "kernelspec": {
   "display_name": "Python 3 (ipykernel)",
   "language": "python",
   "name": "python3"
  },
  "language_info": {
   "codemirror_mode": {
    "name": "ipython",
    "version": 3
   },
   "file_extension": ".py",
   "mimetype": "text/x-python",
   "name": "python",
   "nbconvert_exporter": "python",
   "pygments_lexer": "ipython3",
   "version": "3.11.4"
  }
 },
 "nbformat": 4,
 "nbformat_minor": 5
}
